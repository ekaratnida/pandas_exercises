{
  "nbformat": 4,
  "nbformat_minor": 0,
  "metadata": {
    "anaconda-cloud": {},
    "kernelspec": {
      "display_name": "Python [default]",
      "language": "python",
      "name": "python2"
    },
    "language_info": {
      "codemirror_mode": {
        "name": "ipython",
        "version": 2
      },
      "file_extension": ".py",
      "mimetype": "text/x-python",
      "name": "python",
      "nbconvert_exporter": "python",
      "pygments_lexer": "ipython2",
      "version": "2.7.12"
    },
    "colab": {
      "name": "Exercises_with_solutions.ipynb",
      "provenance": []
    }
  },
  "cells": [
    {
      "cell_type": "markdown",
      "metadata": {
        "id": "D6RXQ_B32Af0"
      },
      "source": [
        "# MPG Cars\n",
        "\n",
        "Check out [Cars Exercises Video Tutorial](https://www.youtube.com/watch?v=avzLRBxoguU&list=PLgJhDSE2ZLxaY_DigHeiIDC1cD09rXgJv&index=3) to watch a data scientist go through the exercises"
      ]
    },
    {
      "cell_type": "markdown",
      "metadata": {
        "id": "9tDXLFn-2Af6"
      },
      "source": [
        "### Introduction:\n",
        "\n",
        "The following exercise utilizes data from [UC Irvine Machine Learning Repository](https://archive.ics.uci.edu/ml/datasets/Auto+MPG)\n",
        "\n",
        "### Step 1. Import the necessary libraries"
      ]
    },
    {
      "cell_type": "code",
      "metadata": {
        "id": "i0-G5xQ-2Af7"
      },
      "source": [
        "import pandas as pd\n",
        "import numpy as np"
      ],
      "execution_count": 1,
      "outputs": []
    },
    {
      "cell_type": "markdown",
      "metadata": {
        "id": "jXB5dHHe2Af8"
      },
      "source": [
        "### Step 2. Import the first dataset [cars1](https://raw.githubusercontent.com/guipsamora/pandas_exercises/master/05_Merge/Auto_MPG/cars1.csv) and [cars2](https://raw.githubusercontent.com/guipsamora/pandas_exercises/master/05_Merge/Auto_MPG/cars2.csv).  "
      ]
    },
    {
      "cell_type": "markdown",
      "metadata": {
        "id": "YE2RvxbN2Af8"
      },
      "source": [
        "   ### Step 3. Assign each to a to a variable called cars1 and cars2"
      ]
    },
    {
      "cell_type": "code",
      "metadata": {
        "id": "GhG9ENuC2Af9",
        "outputId": "c833ea0a-2219-45bb-a4a5-52ef9d4c9f85",
        "colab": {
          "base_uri": "https://localhost:8080/"
        }
      },
      "source": [
        "cars1 = pd.read_csv(\"https://raw.githubusercontent.com/guipsamora/pandas_exercises/master/05_Merge/Auto_MPG/cars1.csv\")\n",
        "cars2 = pd.read_csv(\"https://raw.githubusercontent.com/guipsamora/pandas_exercises/master/05_Merge/Auto_MPG/cars2.csv\")\n",
        "\n",
        "print(cars1.head())\n",
        "print(cars2.head())"
      ],
      "execution_count": 2,
      "outputs": [
        {
          "output_type": "stream",
          "name": "stdout",
          "text": [
            "    mpg  cylinders  displacement  ... Unnamed: 11  Unnamed: 12  Unnamed: 13\n",
            "0  18.0          8           307  ...         NaN          NaN          NaN\n",
            "1  15.0          8           350  ...         NaN          NaN          NaN\n",
            "2  18.0          8           318  ...         NaN          NaN          NaN\n",
            "3  16.0          8           304  ...         NaN          NaN          NaN\n",
            "4  17.0          8           302  ...         NaN          NaN          NaN\n",
            "\n",
            "[5 rows x 14 columns]\n",
            "    mpg  cylinders  displacement  ... model  origin                 car\n",
            "0  33.0          4            91  ...    76       3         honda civic\n",
            "1  20.0          6           225  ...    76       1      dodge aspen se\n",
            "2  18.0          6           250  ...    76       1   ford granada ghia\n",
            "3  18.5          6           250  ...    76       1  pontiac ventura sj\n",
            "4  17.5          6           258  ...    76       1       amc pacer d/l\n",
            "\n",
            "[5 rows x 9 columns]\n"
          ]
        }
      ]
    },
    {
      "cell_type": "markdown",
      "metadata": {
        "id": "l0Ycb8I72Af-"
      },
      "source": [
        "### Step 4. Oops, it seems our first dataset has some unnamed blank columns, fix cars1"
      ]
    },
    {
      "cell_type": "code",
      "metadata": {
        "id": "uOyPsbDr2Af_",
        "outputId": "f10c856c-8750-4da0-869e-66867fa18fc8",
        "colab": {
          "base_uri": "https://localhost:8080/",
          "height": 204
        }
      },
      "source": [
        "cars1 = cars1.loc[:, \"mpg\":\"car\"]\n",
        "cars1.head()"
      ],
      "execution_count": 3,
      "outputs": [
        {
          "output_type": "execute_result",
          "data": {
            "text/html": [
              "<div>\n",
              "<style scoped>\n",
              "    .dataframe tbody tr th:only-of-type {\n",
              "        vertical-align: middle;\n",
              "    }\n",
              "\n",
              "    .dataframe tbody tr th {\n",
              "        vertical-align: top;\n",
              "    }\n",
              "\n",
              "    .dataframe thead th {\n",
              "        text-align: right;\n",
              "    }\n",
              "</style>\n",
              "<table border=\"1\" class=\"dataframe\">\n",
              "  <thead>\n",
              "    <tr style=\"text-align: right;\">\n",
              "      <th></th>\n",
              "      <th>mpg</th>\n",
              "      <th>cylinders</th>\n",
              "      <th>displacement</th>\n",
              "      <th>horsepower</th>\n",
              "      <th>weight</th>\n",
              "      <th>acceleration</th>\n",
              "      <th>model</th>\n",
              "      <th>origin</th>\n",
              "      <th>car</th>\n",
              "    </tr>\n",
              "  </thead>\n",
              "  <tbody>\n",
              "    <tr>\n",
              "      <th>0</th>\n",
              "      <td>18.0</td>\n",
              "      <td>8</td>\n",
              "      <td>307</td>\n",
              "      <td>130</td>\n",
              "      <td>3504</td>\n",
              "      <td>12.0</td>\n",
              "      <td>70</td>\n",
              "      <td>1</td>\n",
              "      <td>chevrolet chevelle malibu</td>\n",
              "    </tr>\n",
              "    <tr>\n",
              "      <th>1</th>\n",
              "      <td>15.0</td>\n",
              "      <td>8</td>\n",
              "      <td>350</td>\n",
              "      <td>165</td>\n",
              "      <td>3693</td>\n",
              "      <td>11.5</td>\n",
              "      <td>70</td>\n",
              "      <td>1</td>\n",
              "      <td>buick skylark 320</td>\n",
              "    </tr>\n",
              "    <tr>\n",
              "      <th>2</th>\n",
              "      <td>18.0</td>\n",
              "      <td>8</td>\n",
              "      <td>318</td>\n",
              "      <td>150</td>\n",
              "      <td>3436</td>\n",
              "      <td>11.0</td>\n",
              "      <td>70</td>\n",
              "      <td>1</td>\n",
              "      <td>plymouth satellite</td>\n",
              "    </tr>\n",
              "    <tr>\n",
              "      <th>3</th>\n",
              "      <td>16.0</td>\n",
              "      <td>8</td>\n",
              "      <td>304</td>\n",
              "      <td>150</td>\n",
              "      <td>3433</td>\n",
              "      <td>12.0</td>\n",
              "      <td>70</td>\n",
              "      <td>1</td>\n",
              "      <td>amc rebel sst</td>\n",
              "    </tr>\n",
              "    <tr>\n",
              "      <th>4</th>\n",
              "      <td>17.0</td>\n",
              "      <td>8</td>\n",
              "      <td>302</td>\n",
              "      <td>140</td>\n",
              "      <td>3449</td>\n",
              "      <td>10.5</td>\n",
              "      <td>70</td>\n",
              "      <td>1</td>\n",
              "      <td>ford torino</td>\n",
              "    </tr>\n",
              "  </tbody>\n",
              "</table>\n",
              "</div>"
            ],
            "text/plain": [
              "    mpg  cylinders  displacement  ... model  origin                        car\n",
              "0  18.0          8           307  ...    70       1  chevrolet chevelle malibu\n",
              "1  15.0          8           350  ...    70       1          buick skylark 320\n",
              "2  18.0          8           318  ...    70       1         plymouth satellite\n",
              "3  16.0          8           304  ...    70       1              amc rebel sst\n",
              "4  17.0          8           302  ...    70       1                ford torino\n",
              "\n",
              "[5 rows x 9 columns]"
            ]
          },
          "metadata": {},
          "execution_count": 3
        }
      ]
    },
    {
      "cell_type": "markdown",
      "metadata": {
        "id": "btJqamDa2Af_"
      },
      "source": [
        "### Step 5. What is the number of observations in each dataset?"
      ]
    },
    {
      "cell_type": "code",
      "metadata": {
        "id": "Cnxb9gCk2AgA",
        "outputId": "7cee8e60-c184-46a0-b8f0-3ab0f9721fd9",
        "colab": {
          "base_uri": "https://localhost:8080/"
        }
      },
      "source": [
        "print(cars1.shape)\n",
        "print(cars2.shape)"
      ],
      "execution_count": 4,
      "outputs": [
        {
          "output_type": "stream",
          "name": "stdout",
          "text": [
            "(198, 9)\n",
            "(200, 9)\n"
          ]
        }
      ]
    },
    {
      "cell_type": "markdown",
      "metadata": {
        "id": "GuRoLv1U2AgB"
      },
      "source": [
        "### Step 6. Join cars1 and cars2 into a single DataFrame called cars"
      ]
    },
    {
      "cell_type": "code",
      "metadata": {
        "id": "wwGA5n0o2AgB",
        "outputId": "e0befcbb-0f60-4a35-bb9e-81e731bda89d",
        "colab": {
          "base_uri": "https://localhost:8080/",
          "height": 419
        }
      },
      "source": [
        "cars = cars1.append(cars2)\n",
        "cars"
      ],
      "execution_count": 5,
      "outputs": [
        {
          "output_type": "execute_result",
          "data": {
            "text/html": [
              "<div>\n",
              "<style scoped>\n",
              "    .dataframe tbody tr th:only-of-type {\n",
              "        vertical-align: middle;\n",
              "    }\n",
              "\n",
              "    .dataframe tbody tr th {\n",
              "        vertical-align: top;\n",
              "    }\n",
              "\n",
              "    .dataframe thead th {\n",
              "        text-align: right;\n",
              "    }\n",
              "</style>\n",
              "<table border=\"1\" class=\"dataframe\">\n",
              "  <thead>\n",
              "    <tr style=\"text-align: right;\">\n",
              "      <th></th>\n",
              "      <th>mpg</th>\n",
              "      <th>cylinders</th>\n",
              "      <th>displacement</th>\n",
              "      <th>horsepower</th>\n",
              "      <th>weight</th>\n",
              "      <th>acceleration</th>\n",
              "      <th>model</th>\n",
              "      <th>origin</th>\n",
              "      <th>car</th>\n",
              "    </tr>\n",
              "  </thead>\n",
              "  <tbody>\n",
              "    <tr>\n",
              "      <th>0</th>\n",
              "      <td>18.0</td>\n",
              "      <td>8</td>\n",
              "      <td>307</td>\n",
              "      <td>130</td>\n",
              "      <td>3504</td>\n",
              "      <td>12.0</td>\n",
              "      <td>70</td>\n",
              "      <td>1</td>\n",
              "      <td>chevrolet chevelle malibu</td>\n",
              "    </tr>\n",
              "    <tr>\n",
              "      <th>1</th>\n",
              "      <td>15.0</td>\n",
              "      <td>8</td>\n",
              "      <td>350</td>\n",
              "      <td>165</td>\n",
              "      <td>3693</td>\n",
              "      <td>11.5</td>\n",
              "      <td>70</td>\n",
              "      <td>1</td>\n",
              "      <td>buick skylark 320</td>\n",
              "    </tr>\n",
              "    <tr>\n",
              "      <th>2</th>\n",
              "      <td>18.0</td>\n",
              "      <td>8</td>\n",
              "      <td>318</td>\n",
              "      <td>150</td>\n",
              "      <td>3436</td>\n",
              "      <td>11.0</td>\n",
              "      <td>70</td>\n",
              "      <td>1</td>\n",
              "      <td>plymouth satellite</td>\n",
              "    </tr>\n",
              "    <tr>\n",
              "      <th>3</th>\n",
              "      <td>16.0</td>\n",
              "      <td>8</td>\n",
              "      <td>304</td>\n",
              "      <td>150</td>\n",
              "      <td>3433</td>\n",
              "      <td>12.0</td>\n",
              "      <td>70</td>\n",
              "      <td>1</td>\n",
              "      <td>amc rebel sst</td>\n",
              "    </tr>\n",
              "    <tr>\n",
              "      <th>4</th>\n",
              "      <td>17.0</td>\n",
              "      <td>8</td>\n",
              "      <td>302</td>\n",
              "      <td>140</td>\n",
              "      <td>3449</td>\n",
              "      <td>10.5</td>\n",
              "      <td>70</td>\n",
              "      <td>1</td>\n",
              "      <td>ford torino</td>\n",
              "    </tr>\n",
              "    <tr>\n",
              "      <th>...</th>\n",
              "      <td>...</td>\n",
              "      <td>...</td>\n",
              "      <td>...</td>\n",
              "      <td>...</td>\n",
              "      <td>...</td>\n",
              "      <td>...</td>\n",
              "      <td>...</td>\n",
              "      <td>...</td>\n",
              "      <td>...</td>\n",
              "    </tr>\n",
              "    <tr>\n",
              "      <th>195</th>\n",
              "      <td>27.0</td>\n",
              "      <td>4</td>\n",
              "      <td>140</td>\n",
              "      <td>86</td>\n",
              "      <td>2790</td>\n",
              "      <td>15.6</td>\n",
              "      <td>82</td>\n",
              "      <td>1</td>\n",
              "      <td>ford mustang gl</td>\n",
              "    </tr>\n",
              "    <tr>\n",
              "      <th>196</th>\n",
              "      <td>44.0</td>\n",
              "      <td>4</td>\n",
              "      <td>97</td>\n",
              "      <td>52</td>\n",
              "      <td>2130</td>\n",
              "      <td>24.6</td>\n",
              "      <td>82</td>\n",
              "      <td>2</td>\n",
              "      <td>vw pickup</td>\n",
              "    </tr>\n",
              "    <tr>\n",
              "      <th>197</th>\n",
              "      <td>32.0</td>\n",
              "      <td>4</td>\n",
              "      <td>135</td>\n",
              "      <td>84</td>\n",
              "      <td>2295</td>\n",
              "      <td>11.6</td>\n",
              "      <td>82</td>\n",
              "      <td>1</td>\n",
              "      <td>dodge rampage</td>\n",
              "    </tr>\n",
              "    <tr>\n",
              "      <th>198</th>\n",
              "      <td>28.0</td>\n",
              "      <td>4</td>\n",
              "      <td>120</td>\n",
              "      <td>79</td>\n",
              "      <td>2625</td>\n",
              "      <td>18.6</td>\n",
              "      <td>82</td>\n",
              "      <td>1</td>\n",
              "      <td>ford ranger</td>\n",
              "    </tr>\n",
              "    <tr>\n",
              "      <th>199</th>\n",
              "      <td>31.0</td>\n",
              "      <td>4</td>\n",
              "      <td>119</td>\n",
              "      <td>82</td>\n",
              "      <td>2720</td>\n",
              "      <td>19.4</td>\n",
              "      <td>82</td>\n",
              "      <td>1</td>\n",
              "      <td>chevy s-10</td>\n",
              "    </tr>\n",
              "  </tbody>\n",
              "</table>\n",
              "<p>398 rows × 9 columns</p>\n",
              "</div>"
            ],
            "text/plain": [
              "      mpg  cylinders  displacement  ... model  origin                        car\n",
              "0    18.0          8           307  ...    70       1  chevrolet chevelle malibu\n",
              "1    15.0          8           350  ...    70       1          buick skylark 320\n",
              "2    18.0          8           318  ...    70       1         plymouth satellite\n",
              "3    16.0          8           304  ...    70       1              amc rebel sst\n",
              "4    17.0          8           302  ...    70       1                ford torino\n",
              "..    ...        ...           ...  ...   ...     ...                        ...\n",
              "195  27.0          4           140  ...    82       1            ford mustang gl\n",
              "196  44.0          4            97  ...    82       2                  vw pickup\n",
              "197  32.0          4           135  ...    82       1              dodge rampage\n",
              "198  28.0          4           120  ...    82       1                ford ranger\n",
              "199  31.0          4           119  ...    82       1                 chevy s-10\n",
              "\n",
              "[398 rows x 9 columns]"
            ]
          },
          "metadata": {},
          "execution_count": 5
        }
      ]
    },
    {
      "cell_type": "markdown",
      "metadata": {
        "id": "MDm-a5702AgB"
      },
      "source": [
        "### Step 7. Oops, there is a column missing, called owners. Create a random number Series from 15,000 to 73,000."
      ]
    },
    {
      "cell_type": "code",
      "metadata": {
        "id": "ZH-ekhwU2AgC",
        "outputId": "c95b0de4-11a7-410f-8327-c7c1bf08973b",
        "colab": {
          "base_uri": "https://localhost:8080/"
        }
      },
      "source": [
        "nr_owners = np.random.randint(15000, high=73001, size=398, dtype='l')\n",
        "nr_owners"
      ],
      "execution_count": 6,
      "outputs": [
        {
          "output_type": "execute_result",
          "data": {
            "text/plain": [
              "array([61284, 30044, 24225, 72552, 23583, 35183, 33914, 19468, 64569,\n",
              "       56604, 32959, 56901, 31963, 41657, 71040, 56236, 69360, 60958,\n",
              "       52747, 17508, 72944, 67910, 43331, 48457, 39367, 66675, 65859,\n",
              "       44554, 17727, 62301, 48626, 36408, 36036, 38971, 62797, 15921,\n",
              "       70697, 57695, 66004, 60161, 32763, 47755, 54008, 55258, 53733,\n",
              "       46852, 22219, 15061, 55597, 30572, 19768, 30641, 25133, 58249,\n",
              "       72202, 72119, 20051, 16102, 28175, 68727, 39618, 67731, 72875,\n",
              "       71049, 52259, 33132, 61844, 57322, 18917, 21077, 62250, 18236,\n",
              "       46425, 68262, 68443, 47295, 70538, 41755, 70850, 38882, 34722,\n",
              "       69634, 27307, 62944, 50361, 46277, 61495, 32215, 57305, 57184,\n",
              "       26484, 72100, 61316, 31345, 41478, 67463, 30966, 33945, 60039,\n",
              "       65722, 64794, 72689, 65009, 60759, 61042, 53578, 26660, 31473,\n",
              "       66807, 58317, 55318, 54623, 39456, 59981, 27195, 50162, 51483,\n",
              "       70621, 37222, 56565, 72841, 52509, 65014, 45119, 70563, 52433,\n",
              "       35314, 69797, 65018, 53741, 23927, 72104, 17539, 27291, 35577,\n",
              "       39993, 27913, 38992, 55567, 52044, 66424, 65847, 67949, 15907,\n",
              "       44099, 42763, 65666, 47923, 61655, 33242, 17696, 67489, 20174,\n",
              "       42671, 30777, 26448, 43538, 40752, 61686, 42990, 46441, 68695,\n",
              "       69929, 29608, 56636, 61827, 45282, 56398, 61383, 58607, 51674,\n",
              "       51335, 31027, 57428, 56735, 50317, 52156, 35449, 49730, 64315,\n",
              "       37513, 59019, 68896, 41366, 46205, 29770, 63901, 26302, 51699,\n",
              "       17526, 21508, 64082, 32810, 58346, 35438, 52212, 65393, 58990,\n",
              "       70956, 68138, 60605, 53708, 30285, 57799, 22966, 34582, 46651,\n",
              "       63831, 53038, 69452, 32966, 69647, 32442, 37431, 52488, 45978,\n",
              "       34298, 29659, 19881, 19575, 26475, 18551, 56158, 35792, 46725,\n",
              "       29148, 59867, 26242, 36588, 55539, 69104, 43357, 62318, 70884,\n",
              "       30554, 20409, 36871, 32027, 43115, 37076, 29459, 53323, 49584,\n",
              "       47749, 66992, 39984, 30085, 66285, 66155, 37967, 49825, 71623,\n",
              "       64917, 68677, 65281, 66516, 30345, 71679, 53825, 54858, 47402,\n",
              "       52596, 36202, 38481, 48022, 70993, 65750, 58726, 16747, 36993,\n",
              "       58894, 56673, 32860, 29151, 23572, 25196, 28925, 34509, 20844,\n",
              "       16683, 37930, 70464, 52696, 25915, 50535, 26831, 21498, 59897,\n",
              "       30009, 47840, 58134, 36665, 37057, 35578, 18788, 66330, 67827,\n",
              "       30190, 28911, 30627, 40313, 21594, 17463, 22386, 30836, 72105,\n",
              "       25452, 25821, 46334, 70670, 37641, 54270, 33336, 29638, 20424,\n",
              "       69876, 20279, 40365, 59440, 51707, 17234, 50865, 69322, 27749,\n",
              "       54500, 29169, 66558, 69880, 55442, 62216, 44568, 52178, 29948,\n",
              "       34560, 68217, 68669, 60663, 57890, 15950, 68405, 29813, 23657,\n",
              "       36000, 48254, 26182, 51760, 71594, 18261, 38089, 36477, 66712,\n",
              "       68421, 37966, 70931, 59706, 19883, 32852, 56393, 64864, 50430,\n",
              "       36260, 46559, 65380, 17424, 67180, 62206, 26425, 33733, 55386,\n",
              "       62042, 42071, 68730, 59191, 53422, 47087, 50391, 53491, 53649,\n",
              "       62038, 15510, 17893, 51858, 22778, 68780, 44834, 66751, 60983,\n",
              "       38809, 38498, 60824, 42254, 30747, 60865, 62771, 24013, 41166,\n",
              "       59943, 24945])"
            ]
          },
          "metadata": {},
          "execution_count": 6
        }
      ]
    },
    {
      "cell_type": "markdown",
      "metadata": {
        "id": "PWr03ID_2AgC"
      },
      "source": [
        "### Step 8. Add the column owners to cars"
      ]
    },
    {
      "cell_type": "code",
      "metadata": {
        "id": "azeD5uDq2AgC",
        "outputId": "fc03397a-3f2f-4eda-b20b-19254a56c219",
        "colab": {
          "base_uri": "https://localhost:8080/",
          "height": 204
        }
      },
      "source": [
        "cars['owners'] = nr_owners\n",
        "cars.tail()"
      ],
      "execution_count": 7,
      "outputs": [
        {
          "output_type": "execute_result",
          "data": {
            "text/html": [
              "<div>\n",
              "<style scoped>\n",
              "    .dataframe tbody tr th:only-of-type {\n",
              "        vertical-align: middle;\n",
              "    }\n",
              "\n",
              "    .dataframe tbody tr th {\n",
              "        vertical-align: top;\n",
              "    }\n",
              "\n",
              "    .dataframe thead th {\n",
              "        text-align: right;\n",
              "    }\n",
              "</style>\n",
              "<table border=\"1\" class=\"dataframe\">\n",
              "  <thead>\n",
              "    <tr style=\"text-align: right;\">\n",
              "      <th></th>\n",
              "      <th>mpg</th>\n",
              "      <th>cylinders</th>\n",
              "      <th>displacement</th>\n",
              "      <th>horsepower</th>\n",
              "      <th>weight</th>\n",
              "      <th>acceleration</th>\n",
              "      <th>model</th>\n",
              "      <th>origin</th>\n",
              "      <th>car</th>\n",
              "      <th>owners</th>\n",
              "    </tr>\n",
              "  </thead>\n",
              "  <tbody>\n",
              "    <tr>\n",
              "      <th>195</th>\n",
              "      <td>27.0</td>\n",
              "      <td>4</td>\n",
              "      <td>140</td>\n",
              "      <td>86</td>\n",
              "      <td>2790</td>\n",
              "      <td>15.6</td>\n",
              "      <td>82</td>\n",
              "      <td>1</td>\n",
              "      <td>ford mustang gl</td>\n",
              "      <td>62771</td>\n",
              "    </tr>\n",
              "    <tr>\n",
              "      <th>196</th>\n",
              "      <td>44.0</td>\n",
              "      <td>4</td>\n",
              "      <td>97</td>\n",
              "      <td>52</td>\n",
              "      <td>2130</td>\n",
              "      <td>24.6</td>\n",
              "      <td>82</td>\n",
              "      <td>2</td>\n",
              "      <td>vw pickup</td>\n",
              "      <td>24013</td>\n",
              "    </tr>\n",
              "    <tr>\n",
              "      <th>197</th>\n",
              "      <td>32.0</td>\n",
              "      <td>4</td>\n",
              "      <td>135</td>\n",
              "      <td>84</td>\n",
              "      <td>2295</td>\n",
              "      <td>11.6</td>\n",
              "      <td>82</td>\n",
              "      <td>1</td>\n",
              "      <td>dodge rampage</td>\n",
              "      <td>41166</td>\n",
              "    </tr>\n",
              "    <tr>\n",
              "      <th>198</th>\n",
              "      <td>28.0</td>\n",
              "      <td>4</td>\n",
              "      <td>120</td>\n",
              "      <td>79</td>\n",
              "      <td>2625</td>\n",
              "      <td>18.6</td>\n",
              "      <td>82</td>\n",
              "      <td>1</td>\n",
              "      <td>ford ranger</td>\n",
              "      <td>59943</td>\n",
              "    </tr>\n",
              "    <tr>\n",
              "      <th>199</th>\n",
              "      <td>31.0</td>\n",
              "      <td>4</td>\n",
              "      <td>119</td>\n",
              "      <td>82</td>\n",
              "      <td>2720</td>\n",
              "      <td>19.4</td>\n",
              "      <td>82</td>\n",
              "      <td>1</td>\n",
              "      <td>chevy s-10</td>\n",
              "      <td>24945</td>\n",
              "    </tr>\n",
              "  </tbody>\n",
              "</table>\n",
              "</div>"
            ],
            "text/plain": [
              "      mpg  cylinders  displacement  ... origin              car  owners\n",
              "195  27.0          4           140  ...      1  ford mustang gl   62771\n",
              "196  44.0          4            97  ...      2        vw pickup   24013\n",
              "197  32.0          4           135  ...      1    dodge rampage   41166\n",
              "198  28.0          4           120  ...      1      ford ranger   59943\n",
              "199  31.0          4           119  ...      1       chevy s-10   24945\n",
              "\n",
              "[5 rows x 10 columns]"
            ]
          },
          "metadata": {},
          "execution_count": 7
        }
      ]
    }
  ]
}